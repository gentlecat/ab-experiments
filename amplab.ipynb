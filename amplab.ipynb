{
 "metadata": {
  "name": "",
  "signature": "sha256:659fa321ce0654107afc3ce46df8a77b32543ab8821508fc9aefb864ad61e7a9"
 },
 "nbformat": 3,
 "nbformat_minor": 0,
 "worksheets": [
  {
   "cells": [
    {
     "cell_type": "heading",
     "level": 1,
     "metadata": {},
     "source": [
      "AcousticBrainz AMPLab projects"
     ]
    },
    {
     "cell_type": "markdown",
     "metadata": {},
     "source": [
      "Tasks and data is taken from https://www.dtic.upf.edu/~aporter/amplab/."
     ]
    },
    {
     "cell_type": "code",
     "collapsed": false,
     "input": [
      "from __future__ import print_function\n",
      "import pandas  # the ultimate weapon\n",
      "import numpy as np\n",
      "import matplotlib.pyplot as plt\n",
      "%matplotlib inline"
     ],
     "language": "python",
     "metadata": {},
     "outputs": [],
     "prompt_number": 1
    },
    {
     "cell_type": "heading",
     "level": 2,
     "metadata": {},
     "source": [
      "Preparing the data"
     ]
    },
    {
     "cell_type": "code",
     "collapsed": false,
     "input": [
      "import os\n",
      "DATA_DIR = os.path.join('data', 'amplab')"
     ],
     "language": "python",
     "metadata": {},
     "outputs": [],
     "prompt_number": 2
    },
    {
     "cell_type": "heading",
     "level": 3,
     "metadata": {},
     "source": [
      "AcousticBrainz"
     ]
    },
    {
     "cell_type": "code",
     "collapsed": false,
     "input": [
      "# Data from AcousticBrainz\n",
      "AB_DATA_PATH = os.path.join(DATA_DIR, 'acousticbrainz-2015-01-selected-features.csv')\n",
      "ab_data = pandas.read_csv(AB_DATA_PATH, index_col=0)\n",
      "\n",
      "\n",
      "with open(AB_DATA_PATH) as csv_f:\n",
      "    print('Columns:', csv_f.readline())"
     ],
     "language": "python",
     "metadata": {},
     "outputs": [
      {
       "output_type": "stream",
       "stream": "stdout",
       "text": [
        "Columns: mbid,artist,artistid,release,releaseid,recording,recordingid,lossless,codec,length,bit_rate,dissonance_mean,dissonance_median,dissonance_var,hfc_mean,hfc_median,hfc_var,spectral_complexity_mean,spectral_complexity_median,spectral_complexity_var,spectral_rolloff_mean,spectral_rolloff_median,spectral_rolloff_var,zerocrossingrate_mean,zerocrossingrate_median,zerocrossingrate_var,average_loudness,dynamic_complexity,replay_gain,chords_changes_rate,key_key,key_scale,key_strength,tuning_frequency,tuning_equal_tempered_deviation,onset_rate,bpm,danceability,mood_acoustic_acoustic,mood_acoustic_not_acoustic,mood_electronic_electronic,mood_electronic_not_electronic,mood_aggressive_aggressive,mood_aggressive_not_aggressive,mood_happy_happy,mood_happy_not_happy,mood_party_party,mood_party_not_party,mood_sad_sad,mood_sad_not_sad,mood_relaxed_relaxed,mood_relaxed_not_relaxed,genre_dortmund_alternative,genre_dortmund_blues,genre_dortmund_electronic,genre_dortmund_folkcountry,genre_dortmund_funksoulrnb,genre_dortmund_jazz,genre_dortmund_pop,genre_dortmund_raphiphop,genre_dortmund_rock,genre_electronic,genre_electronic_probability,genre_rosamerica_cla,genre_rosamerica_dan,genre_rosamerica_hip,genre_rosamerica_jaz,genre_rosamerica_pop,genre_rosamerica_rhy,genre_rosamerica_roc,genre_rosamerica_spe,genre_tzanetakis_blu,genre_tzanetakis_cla,genre_tzanetakis_cou,genre_tzanetakis_dis,genre_tzanetakis_hip,genre_tzanetakis_jaz,genre_tzanetakis_met,genre_tzanetakis_pop,genre_tzanetakis_reg,genre_tzanetakis_roc\n",
        "\n"
       ]
      }
     ],
     "prompt_number": 3
    },
    {
     "cell_type": "heading",
     "level": 3,
     "metadata": {},
     "source": [
      "Release years"
     ]
    },
    {
     "cell_type": "code",
     "collapsed": false,
     "input": [
      "release_original = pandas.read_csv(\n",
      "    os.path.join(DATA_DIR, 'acousticbrainz-2015-01-original-release-years.csv'),\n",
      "    index_col=0, header=None, names=['mbid', 'year'])\n",
      "\n",
      "release_actual = pandas.read_csv(\n",
      "    os.path.join(DATA_DIR, 'acousticbrainz-2015-01-actual-release-years.csv'),\n",
      "    index_col=0, header=None, names=['mbid', 'year'])"
     ],
     "language": "python",
     "metadata": {},
     "outputs": [],
     "prompt_number": 4
    },
    {
     "cell_type": "heading",
     "level": 3,
     "metadata": {},
     "source": [
      "Metadata genre tags"
     ]
    },
    {
     "cell_type": "markdown",
     "metadata": {},
     "source": [
      "This file contains values like:\n",
      "* `Electronic` - usual genre tag that can be parsed without any pre-processing\n",
      "* `Hip-Hop; Underground Hip-Hop; Rap; Underground Rap; Underground` - genres separated by semicolons\n",
      "* `Indie,Instrumental,Experimental` - same as the previous but now separated by commas (without spaces between genres)`\n",
      "* `\"Manabi Straight, Karaoke\"` - comma-separated genres surrounded by quotation marks\n",
      "* `\"Electronic, Hip Hop, Funk / Soul\"`... etc."
     ]
    },
    {
     "cell_type": "code",
     "collapsed": false,
     "input": [
      "MBID_LENGTH = len('00018ca8-d84c-4c3d-bcab-5f9a4b9e4e92')\n",
      "\n",
      "genre_tags = {}\n",
      "\n",
      "import re\n",
      "def parse_genre_tags(string):\n",
      "    string = string.translate(None, '\"').lower()\n",
      "    # TODO: Improve parsing\n",
      "    tags = re.split('\\W+', string)\n",
      "    return filter(None, tags)\n",
      "\n",
      "for line in open(os.path.join(DATA_DIR, 'acousticbrainz-2015-01-file-genre-tags.csv'), 'r'):\n",
      "    genre_tags[line[:MBID_LENGTH]] = parse_genre_tags(line[MBID_LENGTH+1:])"
     ],
     "language": "python",
     "metadata": {},
     "outputs": [],
     "prompt_number": 5
    },
    {
     "cell_type": "code",
     "collapsed": false,
     "input": [
      "print('Examples:')\n",
      "print(genre_tags['9a7d6192-cb51-4d21-a92b-1db4679e7f14'])\n",
      "print(genre_tags['829d2d93-8d48-49c3-a41e-a2f313d9fb5a'])\n",
      "print(genre_tags['3f843014-13f6-46a0-9105-1fa32d2b4d8f'])\n",
      "print(genre_tags['6e76306c-4a8f-4701-81f5-753a6c322655'])\n",
      "print(genre_tags['50682a3f-878c-4ac1-a783-af72341f4c87'])\n",
      "print(genre_tags['c039ac1c-e113-4b30-b071-ffb456df89f6'])"
     ],
     "language": "python",
     "metadata": {},
     "outputs": [
      {
       "output_type": "stream",
       "stream": "stdout",
       "text": [
        "Examples:\n",
        "['karaoke', 'instrumental', 'version']\n",
        "['love', 'dance', 'pop', 'soundtrack', '80s', 'dirty', 'dancing']\n",
        "['dark', 'ambient', 'experimental', 'finland', 'industrial', 'ritual']\n",
        "['classical', 'pop', 'sex', '8', 'of', '10', 'stars', '80s', 'easy', 'listening']\n",
        "['funk', 'soul', 'funk', 'soul']\n",
        "['folk', 'rock']\n"
       ]
      }
     ],
     "prompt_number": 6
    },
    {
     "cell_type": "heading",
     "level": 3,
     "metadata": {},
     "source": [
      "Last.fm tags"
     ]
    },
    {
     "cell_type": "markdown",
     "metadata": {},
     "source": [
      "This file contains variable number of `(tag, count)` pairs."
     ]
    },
    {
     "cell_type": "code",
     "collapsed": false,
     "input": [
      "lastfm_tags = {}\n",
      "\n",
      "from itertools import izip\n",
      "def pairwise(iterable):\n",
      "    i = iter(iterable)\n",
      "    return izip(i, i)\n",
      "\n",
      "for line in open(os.path.join(DATA_DIR, 'acousticbrainz-2015-01-lastfm-tags.csv'), 'r'):\n",
      "    track = line.strip().split(',')\n",
      "    tags = []\n",
      "    for tag, count in pairwise(track[1:]):\n",
      "        tags.append((tag.lower(), count))\n",
      "    lastfm_tags[track[0]] = tags"
     ],
     "language": "python",
     "metadata": {},
     "outputs": [],
     "prompt_number": 7
    },
    {
     "cell_type": "code",
     "collapsed": false,
     "input": [
      "print('Examples:')\n",
      "print(lastfm_tags['02aee867-c503-4749-a877-5c923a6e0908'])\n",
      "print(lastfm_tags['00018ca8-d84c-4c3d-bcab-5f9a4b9e4e92'])"
     ],
     "language": "python",
     "metadata": {},
     "outputs": [
      {
       "output_type": "stream",
       "stream": "stdout",
       "text": [
        "Examples:\n",
        "[('japanese', '100'), ('jpop', '100'), ('j-pop', '50'), ('female vocalists', '50'), ('asian', '50'), ('asian music', '50'), ('asian pop', '50')]\n",
        "[('video game music', '100'), ('instrumental', '28'), ('soundtrack', '28'), ('classical', '14'), ('game music', '14'), ('orchestral', '14'), ('final fantasy', '14'), ('final fantasy xii', '14'), ('slobeat', '14')]\n"
       ]
      }
     ],
     "prompt_number": 8
    },
    {
     "cell_type": "heading",
     "level": 2,
     "metadata": {},
     "source": [
      "Problems"
     ]
    },
    {
     "cell_type": "heading",
     "level": 3,
     "metadata": {},
     "source": [
      "Missing metadata"
     ]
    },
    {
     "cell_type": "markdown",
     "metadata": {},
     "source": [
      "Some tracks in AcousticBrainz data dump are missing metadata:\n",
      "\n",
      "* `artist`\n",
      "* `artistid`\n",
      "* `release`\n",
      "* `releaseid`\n",
      "* `recording` (`recordingid` is there)\n",
      "\n",
      "*Information about releases (`release` and `releaseid` is missing from all rows).*"
     ]
    },
    {
     "cell_type": "code",
     "collapsed": false,
     "input": [
      "print('releases:', len(ab_data[ab_data.release.notnull()]))\n",
      "print('releaseids:', len(ab_data[ab_data.releaseid.notnull()]))"
     ],
     "language": "python",
     "metadata": {},
     "outputs": [
      {
       "output_type": "stream",
       "stream": "stdout",
       "text": [
        "releases: 0\n",
        "releaseids:"
       ]
      },
      {
       "output_type": "stream",
       "stream": "stdout",
       "text": [
        " 0\n"
       ]
      }
     ],
     "prompt_number": 9
    },
    {
     "cell_type": "code",
     "collapsed": false,
     "input": [
      "ab_data[ab_data.recording.isnull()].loc[:,[\n",
      "    'artist', 'artistid', 'release', 'releaseid', 'recording']]"
     ],
     "language": "python",
     "metadata": {},
     "outputs": [
      {
       "html": [
        "<div style=\"max-height:1000px;max-width:1500px;overflow:auto;\">\n",
        "<table border=\"1\" class=\"dataframe\">\n",
        "  <thead>\n",
        "    <tr style=\"text-align: right;\">\n",
        "      <th></th>\n",
        "      <th>artist</th>\n",
        "      <th>artistid</th>\n",
        "      <th>release</th>\n",
        "      <th>releaseid</th>\n",
        "      <th>recording</th>\n",
        "    </tr>\n",
        "    <tr>\n",
        "      <th>mbid</th>\n",
        "      <th></th>\n",
        "      <th></th>\n",
        "      <th></th>\n",
        "      <th></th>\n",
        "      <th></th>\n",
        "    </tr>\n",
        "  </thead>\n",
        "  <tbody>\n",
        "    <tr>\n",
        "      <th>40567a08-62bb-4f49-bf6f-6858a58d745e</th>\n",
        "      <td>           NaN</td>\n",
        "      <td>                                  NaN</td>\n",
        "      <td>NaN</td>\n",
        "      <td>NaN</td>\n",
        "      <td> NaN</td>\n",
        "    </tr>\n",
        "    <tr>\n",
        "      <th>3c66ffef-cbd6-4b1f-b660-e0ab57eb463b</th>\n",
        "      <td> Avril Lavigne</td>\n",
        "      <td>                                  NaN</td>\n",
        "      <td>NaN</td>\n",
        "      <td>NaN</td>\n",
        "      <td> NaN</td>\n",
        "    </tr>\n",
        "    <tr>\n",
        "      <th>3eec4378-a37e-49bb-93e7-25e9d2c9b669</th>\n",
        "      <td>           NaN</td>\n",
        "      <td>                                  NaN</td>\n",
        "      <td>NaN</td>\n",
        "      <td>NaN</td>\n",
        "      <td> NaN</td>\n",
        "    </tr>\n",
        "    <tr>\n",
        "      <th>470c47aa-88a6-422c-a65d-4b6147280e58</th>\n",
        "      <td>           NaN</td>\n",
        "      <td>                                  NaN</td>\n",
        "      <td>NaN</td>\n",
        "      <td>NaN</td>\n",
        "      <td> NaN</td>\n",
        "    </tr>\n",
        "    <tr>\n",
        "      <th>160452f0-db90-416d-ac78-03feef62f717</th>\n",
        "      <td>           NaN</td>\n",
        "      <td>                                  NaN</td>\n",
        "      <td>NaN</td>\n",
        "      <td>NaN</td>\n",
        "      <td> NaN</td>\n",
        "    </tr>\n",
        "    <tr>\n",
        "      <th>4eb24aaf-95ca-4848-bdc0-bb5bcf98f341</th>\n",
        "      <td>   Alicia Keys</td>\n",
        "      <td>                                  NaN</td>\n",
        "      <td>NaN</td>\n",
        "      <td>NaN</td>\n",
        "      <td> NaN</td>\n",
        "    </tr>\n",
        "    <tr>\n",
        "      <th>6fee7302-b27d-4720-be4a-82dd7cab4da3</th>\n",
        "      <td>           NaN</td>\n",
        "      <td>                                  NaN</td>\n",
        "      <td>NaN</td>\n",
        "      <td>NaN</td>\n",
        "      <td> NaN</td>\n",
        "    </tr>\n",
        "    <tr>\n",
        "      <th>34cde14a-4a1b-4183-8abb-76628055f3a2</th>\n",
        "      <td>           NaN</td>\n",
        "      <td>                                  NaN</td>\n",
        "      <td>NaN</td>\n",
        "      <td>NaN</td>\n",
        "      <td> NaN</td>\n",
        "    </tr>\n",
        "    <tr>\n",
        "      <th>352d9fca-b268-41a6-bd92-213c821f0a8b</th>\n",
        "      <td>           NaN</td>\n",
        "      <td>                                  NaN</td>\n",
        "      <td>NaN</td>\n",
        "      <td>NaN</td>\n",
        "      <td> NaN</td>\n",
        "    </tr>\n",
        "    <tr>\n",
        "      <th>907eff31-57d1-4998-93ad-73de66d0f659</th>\n",
        "      <td>           NaN</td>\n",
        "      <td>                                  NaN</td>\n",
        "      <td>NaN</td>\n",
        "      <td>NaN</td>\n",
        "      <td> NaN</td>\n",
        "    </tr>\n",
        "    <tr>\n",
        "      <th>a7340bf0-df10-41c7-891b-924a502c8559</th>\n",
        "      <td>  The Selecter</td>\n",
        "      <td> 1329faaf-799f-44e2-91f9-87fe52f17afd</td>\n",
        "      <td>NaN</td>\n",
        "      <td>NaN</td>\n",
        "      <td> NaN</td>\n",
        "    </tr>\n",
        "    <tr>\n",
        "      <th>ad256b03-3e8c-4777-b691-ee4a5488bd1b</th>\n",
        "      <td>           NaN</td>\n",
        "      <td>                 usicBrainz Artist Id</td>\n",
        "      <td>NaN</td>\n",
        "      <td>NaN</td>\n",
        "      <td> NaN</td>\n",
        "    </tr>\n",
        "    <tr>\n",
        "      <th>6dfe2848-9617-4f0a-a31e-bc78adaf4a01</th>\n",
        "      <td>           NaN</td>\n",
        "      <td>                                  NaN</td>\n",
        "      <td>NaN</td>\n",
        "      <td>NaN</td>\n",
        "      <td> NaN</td>\n",
        "    </tr>\n",
        "    <tr>\n",
        "      <th>485d0a0e-65d2-47da-8171-1ae8fcddb597</th>\n",
        "      <td>           NaN</td>\n",
        "      <td>                                  NaN</td>\n",
        "      <td>NaN</td>\n",
        "      <td>NaN</td>\n",
        "      <td> NaN</td>\n",
        "    </tr>\n",
        "    <tr>\n",
        "      <th>7d924bb6-0b0e-450c-993d-0af172b44248</th>\n",
        "      <td>           NaN</td>\n",
        "      <td>                 usicBrainz Artist Id</td>\n",
        "      <td>NaN</td>\n",
        "      <td>NaN</td>\n",
        "      <td> NaN</td>\n",
        "    </tr>\n",
        "    <tr>\n",
        "      <th>d27e1f13-8482-4c03-b161-9cc020825a88</th>\n",
        "      <td>           NaN</td>\n",
        "      <td>                                  NaN</td>\n",
        "      <td>NaN</td>\n",
        "      <td>NaN</td>\n",
        "      <td> NaN</td>\n",
        "    </tr>\n",
        "    <tr>\n",
        "      <th>8b1863dc-8a61-4883-b4d2-a195dd385882</th>\n",
        "      <td>           NaN</td>\n",
        "      <td>                 usicBrainz Artist Id</td>\n",
        "      <td>NaN</td>\n",
        "      <td>NaN</td>\n",
        "      <td> NaN</td>\n",
        "    </tr>\n",
        "    <tr>\n",
        "      <th>beb50e18-7a22-4474-8021-b75eef4783fa</th>\n",
        "      <td>           NaN</td>\n",
        "      <td>                                  NaN</td>\n",
        "      <td>NaN</td>\n",
        "      <td>NaN</td>\n",
        "      <td> NaN</td>\n",
        "    </tr>\n",
        "    <tr>\n",
        "      <th>bb91ce0e-8493-469f-bd1a-a314b2682400</th>\n",
        "      <td>     Daft Punk</td>\n",
        "      <td>                 usicBrainz Artist Id</td>\n",
        "      <td>NaN</td>\n",
        "      <td>NaN</td>\n",
        "      <td> NaN</td>\n",
        "    </tr>\n",
        "    <tr>\n",
        "      <th>91969a43-5c28-4f25-8292-8eabe570171d</th>\n",
        "      <td>           NaN</td>\n",
        "      <td>                                  NaN</td>\n",
        "      <td>NaN</td>\n",
        "      <td>NaN</td>\n",
        "      <td> NaN</td>\n",
        "    </tr>\n",
        "    <tr>\n",
        "      <th>1f9e0f8a-1df5-4c49-8fd1-03c3d6dede32</th>\n",
        "      <td>           NaN</td>\n",
        "      <td>                                  NaN</td>\n",
        "      <td>NaN</td>\n",
        "      <td>NaN</td>\n",
        "      <td> NaN</td>\n",
        "    </tr>\n",
        "    <tr>\n",
        "      <th>1a6dd09c-3218-4d13-8ad1-668a51b3f0df</th>\n",
        "      <td>           NaN</td>\n",
        "      <td>                                  NaN</td>\n",
        "      <td>NaN</td>\n",
        "      <td>NaN</td>\n",
        "      <td> NaN</td>\n",
        "    </tr>\n",
        "    <tr>\n",
        "      <th>a700b5a4-82e6-40d5-8023-58ccd4ed50b3</th>\n",
        "      <td>           NaN</td>\n",
        "      <td>                                  NaN</td>\n",
        "      <td>NaN</td>\n",
        "      <td>NaN</td>\n",
        "      <td> NaN</td>\n",
        "    </tr>\n",
        "  </tbody>\n",
        "</table>\n",
        "</div>"
       ],
       "metadata": {},
       "output_type": "pyout",
       "prompt_number": 10,
       "text": [
        "                                             artist  \\\n",
        "mbid                                                  \n",
        "40567a08-62bb-4f49-bf6f-6858a58d745e            NaN   \n",
        "3c66ffef-cbd6-4b1f-b660-e0ab57eb463b  Avril Lavigne   \n",
        "3eec4378-a37e-49bb-93e7-25e9d2c9b669            NaN   \n",
        "470c47aa-88a6-422c-a65d-4b6147280e58            NaN   \n",
        "160452f0-db90-416d-ac78-03feef62f717            NaN   \n",
        "4eb24aaf-95ca-4848-bdc0-bb5bcf98f341    Alicia Keys   \n",
        "6fee7302-b27d-4720-be4a-82dd7cab4da3            NaN   \n",
        "34cde14a-4a1b-4183-8abb-76628055f3a2            NaN   \n",
        "352d9fca-b268-41a6-bd92-213c821f0a8b            NaN   \n",
        "907eff31-57d1-4998-93ad-73de66d0f659            NaN   \n",
        "a7340bf0-df10-41c7-891b-924a502c8559   The Selecter   \n",
        "ad256b03-3e8c-4777-b691-ee4a5488bd1b            NaN   \n",
        "6dfe2848-9617-4f0a-a31e-bc78adaf4a01            NaN   \n",
        "485d0a0e-65d2-47da-8171-1ae8fcddb597            NaN   \n",
        "7d924bb6-0b0e-450c-993d-0af172b44248            NaN   \n",
        "d27e1f13-8482-4c03-b161-9cc020825a88            NaN   \n",
        "8b1863dc-8a61-4883-b4d2-a195dd385882            NaN   \n",
        "beb50e18-7a22-4474-8021-b75eef4783fa            NaN   \n",
        "bb91ce0e-8493-469f-bd1a-a314b2682400      Daft Punk   \n",
        "91969a43-5c28-4f25-8292-8eabe570171d            NaN   \n",
        "1f9e0f8a-1df5-4c49-8fd1-03c3d6dede32            NaN   \n",
        "1a6dd09c-3218-4d13-8ad1-668a51b3f0df            NaN   \n",
        "a700b5a4-82e6-40d5-8023-58ccd4ed50b3            NaN   \n",
        "\n",
        "                                                                  artistid  \\\n",
        "mbid                                                                         \n",
        "40567a08-62bb-4f49-bf6f-6858a58d745e                                   NaN   \n",
        "3c66ffef-cbd6-4b1f-b660-e0ab57eb463b                                   NaN   \n",
        "3eec4378-a37e-49bb-93e7-25e9d2c9b669                                   NaN   \n",
        "470c47aa-88a6-422c-a65d-4b6147280e58                                   NaN   \n",
        "160452f0-db90-416d-ac78-03feef62f717                                   NaN   \n",
        "4eb24aaf-95ca-4848-bdc0-bb5bcf98f341                                   NaN   \n",
        "6fee7302-b27d-4720-be4a-82dd7cab4da3                                   NaN   \n",
        "34cde14a-4a1b-4183-8abb-76628055f3a2                                   NaN   \n",
        "352d9fca-b268-41a6-bd92-213c821f0a8b                                   NaN   \n",
        "907eff31-57d1-4998-93ad-73de66d0f659                                   NaN   \n",
        "a7340bf0-df10-41c7-891b-924a502c8559  1329faaf-799f-44e2-91f9-87fe52f17afd   \n",
        "ad256b03-3e8c-4777-b691-ee4a5488bd1b                  usicBrainz Artist Id   \n",
        "6dfe2848-9617-4f0a-a31e-bc78adaf4a01                                   NaN   \n",
        "485d0a0e-65d2-47da-8171-1ae8fcddb597                                   NaN   \n",
        "7d924bb6-0b0e-450c-993d-0af172b44248                  usicBrainz Artist Id   \n",
        "d27e1f13-8482-4c03-b161-9cc020825a88                                   NaN   \n",
        "8b1863dc-8a61-4883-b4d2-a195dd385882                  usicBrainz Artist Id   \n",
        "beb50e18-7a22-4474-8021-b75eef4783fa                                   NaN   \n",
        "bb91ce0e-8493-469f-bd1a-a314b2682400                  usicBrainz Artist Id   \n",
        "91969a43-5c28-4f25-8292-8eabe570171d                                   NaN   \n",
        "1f9e0f8a-1df5-4c49-8fd1-03c3d6dede32                                   NaN   \n",
        "1a6dd09c-3218-4d13-8ad1-668a51b3f0df                                   NaN   \n",
        "a700b5a4-82e6-40d5-8023-58ccd4ed50b3                                   NaN   \n",
        "\n",
        "                                      release  releaseid recording  \n",
        "mbid                                                                \n",
        "40567a08-62bb-4f49-bf6f-6858a58d745e      NaN        NaN       NaN  \n",
        "3c66ffef-cbd6-4b1f-b660-e0ab57eb463b      NaN        NaN       NaN  \n",
        "3eec4378-a37e-49bb-93e7-25e9d2c9b669      NaN        NaN       NaN  \n",
        "470c47aa-88a6-422c-a65d-4b6147280e58      NaN        NaN       NaN  \n",
        "160452f0-db90-416d-ac78-03feef62f717      NaN        NaN       NaN  \n",
        "4eb24aaf-95ca-4848-bdc0-bb5bcf98f341      NaN        NaN       NaN  \n",
        "6fee7302-b27d-4720-be4a-82dd7cab4da3      NaN        NaN       NaN  \n",
        "34cde14a-4a1b-4183-8abb-76628055f3a2      NaN        NaN       NaN  \n",
        "352d9fca-b268-41a6-bd92-213c821f0a8b      NaN        NaN       NaN  \n",
        "907eff31-57d1-4998-93ad-73de66d0f659      NaN        NaN       NaN  \n",
        "a7340bf0-df10-41c7-891b-924a502c8559      NaN        NaN       NaN  \n",
        "ad256b03-3e8c-4777-b691-ee4a5488bd1b      NaN        NaN       NaN  \n",
        "6dfe2848-9617-4f0a-a31e-bc78adaf4a01      NaN        NaN       NaN  \n",
        "485d0a0e-65d2-47da-8171-1ae8fcddb597      NaN        NaN       NaN  \n",
        "7d924bb6-0b0e-450c-993d-0af172b44248      NaN        NaN       NaN  \n",
        "d27e1f13-8482-4c03-b161-9cc020825a88      NaN        NaN       NaN  \n",
        "8b1863dc-8a61-4883-b4d2-a195dd385882      NaN        NaN       NaN  \n",
        "beb50e18-7a22-4474-8021-b75eef4783fa      NaN        NaN       NaN  \n",
        "bb91ce0e-8493-469f-bd1a-a314b2682400      NaN        NaN       NaN  \n",
        "91969a43-5c28-4f25-8292-8eabe570171d      NaN        NaN       NaN  \n",
        "1f9e0f8a-1df5-4c49-8fd1-03c3d6dede32      NaN        NaN       NaN  \n",
        "1a6dd09c-3218-4d13-8ad1-668a51b3f0df      NaN        NaN       NaN  \n",
        "a700b5a4-82e6-40d5-8023-58ccd4ed50b3      NaN        NaN       NaN  "
       ]
      }
     ],
     "prompt_number": 10
    },
    {
     "cell_type": "markdown",
     "metadata": {},
     "source": [
      "When you try to view these tracks on AcousticBrainz website right now, you'll get HTTP 500. I guess this case is not handled properly there, and these attributes are not checked when data is submitted.\n",
      "\n",
      "Some columns also contain incorrect data (random string in place of UUID)."
     ]
    },
    {
     "cell_type": "code",
     "collapsed": false,
     "input": [
      "# Remove bad data so we don't have to worry about it later\n",
      "ab_data = ab_data[ab_data.recording.notnull()]\n",
      "ab_data = ab_data[ab_data.artistid.notnull()]\n",
      "\n",
      "# Some artistids are not UUIDs, so we remove them\n",
      "# Not the best way to filter, but it should work for now\n",
      "ab_data = ab_data[~(ab_data.artistid.str.len() != len('bb91ce0e-8493-469f-bd1a-a314b2682400'))]"
     ],
     "language": "python",
     "metadata": {},
     "outputs": [],
     "prompt_number": 11
    },
    {
     "cell_type": "heading",
     "level": 3,
     "metadata": {},
     "source": [
      "Incorrect release years"
     ]
    },
    {
     "cell_type": "markdown",
     "metadata": {},
     "source": [
      "Some data in data sets with release years is incorrect, so we need to *fix* this as well."
     ]
    },
    {
     "cell_type": "code",
     "collapsed": false,
     "input": [
      "release_original[release_original.year < 1890] = np.nan\n",
      "release_actual[release_actual.year < 1890] = np.nan"
     ],
     "language": "python",
     "metadata": {},
     "outputs": [],
     "prompt_number": 12
    },
    {
     "cell_type": "heading",
     "level": 2,
     "metadata": {},
     "source": [
      "Duplicates"
     ]
    },
    {
     "cell_type": "heading",
     "level": 3,
     "metadata": {},
     "source": [
      "Recordings"
     ]
    },
    {
     "cell_type": "code",
     "collapsed": false,
     "input": [
      "duplicates = ab_data['recordingid'].value_counts()"
     ],
     "language": "python",
     "metadata": {},
     "outputs": [],
     "prompt_number": 13
    },
    {
     "cell_type": "code",
     "collapsed": false,
     "input": [
      "duplicates_joined = duplicates.to_frame('duplicates').join(ab_data).drop_duplicates('recordingid')"
     ],
     "language": "python",
     "metadata": {},
     "outputs": [],
     "prompt_number": 14
    },
    {
     "cell_type": "code",
     "collapsed": false,
     "input": [
      "print('Top recordings:')\n",
      "duplicates_joined.sort('duplicates', ascending=False).loc[:,['artist', 'recording', 'duplicates']].head(10)"
     ],
     "language": "python",
     "metadata": {},
     "outputs": [
      {
       "output_type": "stream",
       "stream": "stdout",
       "text": [
        "Top recordings:\n"
       ]
      },
      {
       "html": [
        "<div style=\"max-height:1000px;max-width:1500px;overflow:auto;\">\n",
        "<table border=\"1\" class=\"dataframe\">\n",
        "  <thead>\n",
        "    <tr style=\"text-align: right;\">\n",
        "      <th></th>\n",
        "      <th>artist</th>\n",
        "      <th>recording</th>\n",
        "      <th>duplicates</th>\n",
        "    </tr>\n",
        "  </thead>\n",
        "  <tbody>\n",
        "    <tr>\n",
        "      <th>ee898790-133f-445a-874f-d996abd843af</th>\n",
        "      <td> The Beatles</td>\n",
        "      <td>           I'm Down</td>\n",
        "      <td> 125</td>\n",
        "    </tr>\n",
        "    <tr>\n",
        "      <th>b2b50082-0bd1-4702-9a95-3499a4e5781b</th>\n",
        "      <td> The Beatles</td>\n",
        "      <td>          Slow Down</td>\n",
        "      <td> 107</td>\n",
        "    </tr>\n",
        "    <tr>\n",
        "      <th>659b4269-fe81-40e4-86e9-12879c09c9e6</th>\n",
        "      <td> The Beatles</td>\n",
        "      <td>  Can't Buy Me Love</td>\n",
        "      <td>  94</td>\n",
        "    </tr>\n",
        "    <tr>\n",
        "      <th>c1d63906-f64a-4cd1-9873-9f3a9f98883c</th>\n",
        "      <td> The Beatles</td>\n",
        "      <td> A Hard Day's Night</td>\n",
        "      <td>  93</td>\n",
        "    </tr>\n",
        "    <tr>\n",
        "      <th>b849acd4-0638-49ea-8e40-7391613d4890</th>\n",
        "      <td> The Beatles</td>\n",
        "      <td>          Something</td>\n",
        "      <td>  92</td>\n",
        "    </tr>\n",
        "    <tr>\n",
        "      <th>917f2be3-065e-4d1e-8a76-1b50abd1ad95</th>\n",
        "      <td> The Beatles</td>\n",
        "      <td>     And I Love Her</td>\n",
        "      <td>  90</td>\n",
        "    </tr>\n",
        "    <tr>\n",
        "      <th>15127932-c879-466e-b0f8-a1c5022d16e7</th>\n",
        "      <td> The Beatles</td>\n",
        "      <td>   Octopus's Garden</td>\n",
        "      <td>  88</td>\n",
        "    </tr>\n",
        "    <tr>\n",
        "      <th>00c47ea6-3a10-4a32-b1f1-990ac756c6a0</th>\n",
        "      <td> The Beatles</td>\n",
        "      <td>     Ticket to Ride</td>\n",
        "      <td>  87</td>\n",
        "    </tr>\n",
        "    <tr>\n",
        "      <th>63dd7ef6-6d6e-44d5-a4d9-190e49223077</th>\n",
        "      <td> The Beatles</td>\n",
        "      <td>  Eight Days a Week</td>\n",
        "      <td>  86</td>\n",
        "    </tr>\n",
        "    <tr>\n",
        "      <th>485bbe7f-d0f7-4ffe-8adb-0f1093dd2dbf</th>\n",
        "      <td> The Beatles</td>\n",
        "      <td>      Come Together</td>\n",
        "      <td>  83</td>\n",
        "    </tr>\n",
        "  </tbody>\n",
        "</table>\n",
        "</div>"
       ],
       "metadata": {},
       "output_type": "pyout",
       "prompt_number": 15,
       "text": [
        "                                           artist           recording  \\\n",
        "ee898790-133f-445a-874f-d996abd843af  The Beatles            I'm Down   \n",
        "b2b50082-0bd1-4702-9a95-3499a4e5781b  The Beatles           Slow Down   \n",
        "659b4269-fe81-40e4-86e9-12879c09c9e6  The Beatles   Can't Buy Me Love   \n",
        "c1d63906-f64a-4cd1-9873-9f3a9f98883c  The Beatles  A Hard Day's Night   \n",
        "b849acd4-0638-49ea-8e40-7391613d4890  The Beatles           Something   \n",
        "917f2be3-065e-4d1e-8a76-1b50abd1ad95  The Beatles      And I Love Her   \n",
        "15127932-c879-466e-b0f8-a1c5022d16e7  The Beatles    Octopus's Garden   \n",
        "00c47ea6-3a10-4a32-b1f1-990ac756c6a0  The Beatles      Ticket to Ride   \n",
        "63dd7ef6-6d6e-44d5-a4d9-190e49223077  The Beatles   Eight Days a Week   \n",
        "485bbe7f-d0f7-4ffe-8adb-0f1093dd2dbf  The Beatles       Come Together   \n",
        "\n",
        "                                      duplicates  \n",
        "ee898790-133f-445a-874f-d996abd843af         125  \n",
        "b2b50082-0bd1-4702-9a95-3499a4e5781b         107  \n",
        "659b4269-fe81-40e4-86e9-12879c09c9e6          94  \n",
        "c1d63906-f64a-4cd1-9873-9f3a9f98883c          93  \n",
        "b849acd4-0638-49ea-8e40-7391613d4890          92  \n",
        "917f2be3-065e-4d1e-8a76-1b50abd1ad95          90  \n",
        "15127932-c879-466e-b0f8-a1c5022d16e7          88  \n",
        "00c47ea6-3a10-4a32-b1f1-990ac756c6a0          87  \n",
        "63dd7ef6-6d6e-44d5-a4d9-190e49223077          86  \n",
        "485bbe7f-d0f7-4ffe-8adb-0f1093dd2dbf          83  "
       ]
      }
     ],
     "prompt_number": 15
    },
    {
     "cell_type": "code",
     "collapsed": false,
     "input": [
      "plt.hist(duplicates, bins=50, facecolor='green', alpha=0.6)\n",
      "plt.yscale('symlog')\n",
      "plt.xlabel('duplicate tracks')\n",
      "plt.ylabel('number of tracks')\n",
      "plt.show()"
     ],
     "language": "python",
     "metadata": {},
     "outputs": [
      {
       "metadata": {},
       "output_type": "display_data",
       "png": "[encoded data removed]",
       "text": [
        "<matplotlib.figure.Figure at 0x9d2cd668>"
       ]
      }
     ],
     "prompt_number": 16
    },
    {
     "cell_type": "heading",
     "level": 3,
     "metadata": {},
     "source": [
      "Artists"
     ]
    },
    {
     "cell_type": "code",
     "collapsed": false,
     "input": [
      "# Extracting artists\n",
      "artists = ab_data.loc[:,['artistid', 'artist']].drop_duplicates('artistid').set_index('artistid')"
     ],
     "language": "python",
     "metadata": {},
     "outputs": [],
     "prompt_number": 17
    },
    {
     "cell_type": "code",
     "collapsed": false,
     "input": [
      "duplicate_artists = ab_data.loc[:,['artistid', 'artist']].groupby('artistid').count()"
     ],
     "language": "python",
     "metadata": {},
     "outputs": [],
     "prompt_number": 18
    },
    {
     "cell_type": "code",
     "collapsed": false,
     "input": [
      "print('Top artists:')\n",
      "duplicate_artists.join(artists, lsuffix='_count').sort('artist_count', ascending=False).head(10)"
     ],
     "language": "python",
     "metadata": {},
     "outputs": [
      {
       "output_type": "stream",
       "stream": "stdout",
       "text": [
        "Top artists:\n"
       ]
      },
      {
       "html": [
        "<div style=\"max-height:1000px;max-width:1500px;overflow:auto;\">\n",
        "<table border=\"1\" class=\"dataframe\">\n",
        "  <thead>\n",
        "    <tr style=\"text-align: right;\">\n",
        "      <th></th>\n",
        "      <th>artist_count</th>\n",
        "      <th>artist</th>\n",
        "    </tr>\n",
        "    <tr>\n",
        "      <th>artistid</th>\n",
        "      <th></th>\n",
        "      <th></th>\n",
        "    </tr>\n",
        "  </thead>\n",
        "  <tbody>\n",
        "    <tr>\n",
        "      <th>b10bbbfc-cf9e-42e0-be17-e2c3e1d2600d</th>\n",
        "      <td> 23922</td>\n",
        "      <td>              The Beatles</td>\n",
        "    </tr>\n",
        "    <tr>\n",
        "      <th>24f1766e-9635-4d58-a4d4-9413f9f98a4c</th>\n",
        "      <td> 10305</td>\n",
        "      <td>    Johann Sebastian Bach</td>\n",
        "    </tr>\n",
        "    <tr>\n",
        "      <th>691b0e9d-9e57-41cf-932d-a3d21b068e75</th>\n",
        "      <td>  8910</td>\n",
        "      <td>            Jean Sibelius</td>\n",
        "    </tr>\n",
        "    <tr>\n",
        "      <th>53b106e7-0cc6-42cc-ac95-ed8d30a3a98e</th>\n",
        "      <td>  7492</td>\n",
        "      <td>            John Williams</td>\n",
        "    </tr>\n",
        "    <tr>\n",
        "      <th>1f9df192-a621-4f54-8850-2c5373b7eac9</th>\n",
        "      <td>  7208</td>\n",
        "      <td>     Ludwig van Beethoven</td>\n",
        "    </tr>\n",
        "    <tr>\n",
        "      <th>b972f589-fb0e-474e-b64a-803b0364fa75</th>\n",
        "      <td>  5942</td>\n",
        "      <td>  Wolfgang Amadeus Mozart</td>\n",
        "    </tr>\n",
        "    <tr>\n",
        "      <th>197450cd-0124-4164-b723-3c22dd16494d</th>\n",
        "      <td>  5889</td>\n",
        "      <td>            Frank Sinatra</td>\n",
        "    </tr>\n",
        "    <tr>\n",
        "      <th>72c536dc-7137-4477-a521-567eeb840fa8</th>\n",
        "      <td>  5738</td>\n",
        "      <td>     Bob Dylan &amp; The Band</td>\n",
        "    </tr>\n",
        "    <tr>\n",
        "      <th>5a28f8c2-31fb-4047-ae57-c5c326989262</th>\n",
        "      <td>  5345</td>\n",
        "      <td>                 Hawkwind</td>\n",
        "    </tr>\n",
        "    <tr>\n",
        "      <th>9ddd7abc-9e1b-471d-8031-583bc6bc8be9</th>\n",
        "      <td>  5020</td>\n",
        "      <td> Pyotr Ilyich Tchaikovsky</td>\n",
        "    </tr>\n",
        "  </tbody>\n",
        "</table>\n",
        "</div>"
       ],
       "metadata": {},
       "output_type": "pyout",
       "prompt_number": 19,
       "text": [
        "                                      artist_count                    artist\n",
        "artistid                                                                    \n",
        "b10bbbfc-cf9e-42e0-be17-e2c3e1d2600d         23922               The Beatles\n",
        "24f1766e-9635-4d58-a4d4-9413f9f98a4c         10305     Johann Sebastian Bach\n",
        "691b0e9d-9e57-41cf-932d-a3d21b068e75          8910             Jean Sibelius\n",
        "53b106e7-0cc6-42cc-ac95-ed8d30a3a98e          7492             John Williams\n",
        "1f9df192-a621-4f54-8850-2c5373b7eac9          7208      Ludwig van Beethoven\n",
        "b972f589-fb0e-474e-b64a-803b0364fa75          5942   Wolfgang Amadeus Mozart\n",
        "197450cd-0124-4164-b723-3c22dd16494d          5889             Frank Sinatra\n",
        "72c536dc-7137-4477-a521-567eeb840fa8          5738      Bob Dylan & The Band\n",
        "5a28f8c2-31fb-4047-ae57-c5c326989262          5345                  Hawkwind\n",
        "9ddd7abc-9e1b-471d-8031-583bc6bc8be9          5020  Pyotr Ilyich Tchaikovsky"
       ]
      }
     ],
     "prompt_number": 19
    },
    {
     "cell_type": "code",
     "collapsed": false,
     "input": [
      "plt.hist(duplicate_artists['artist'].values, bins=60, facecolor='green', alpha=0.6)\n",
      "plt.yscale('symlog')\n",
      "plt.xlabel('duplicate artists')\n",
      "plt.ylabel('number of artists')\n",
      "plt.show()"
     ],
     "language": "python",
     "metadata": {},
     "outputs": [
      {
       "metadata": {},
       "output_type": "display_data",
       "png": "[encoded data removed]",
       "text": [
        "<matplotlib.figure.Figure at 0x3afd9e8>"
       ]
      }
     ]
    },
    {
     "cell_type": "heading",
     "level": 2,
     "metadata": {},
     "source": [
      "The Loudness wars"
     ]
    },
    {
     "cell_type": "code",
     "collapsed": false,
     "input": [
      "# Using average_loudness\n",
      "avg_loudness = ab_data.loc[:,['average_loudness']]\n",
      "\n",
      "original_loudness = avg_loudness.join(release_original).groupby('year').aggregate(np.mean)\n",
      "actual_loudness = avg_loudness.join(release_actual).groupby('year').aggregate(np.mean)\n",
      "\n",
      "plt.plot(original_loudness, label='original')\n",
      "plt.plot(actual_loudness, label='actual')\n",
      "plt.axis(ymin=0, ymax=1)\n",
      "plt.ylabel('average_loudness')\n",
      "plt.xlabel('year')\n",
      "plt.legend(loc='lower right')\n",
      "plt.show()"
     ],
     "language": "python",
     "metadata": {},
     "outputs": []
    },
    {
     "cell_type": "code",
     "collapsed": false,
     "input": [
      "# Using dynamic_complexity\n",
      "dyn_complexity = ab_data.loc[:,['dynamic_complexity']]\n",
      "\n",
      "original_loudness = dyn_complexity.join(release_original).groupby('year').aggregate(np.mean)\n",
      "actual_loudness = dyn_complexity.join(release_actual).groupby('year').aggregate(np.mean)\n",
      "\n",
      "plt.plot(original_loudness, label='original')\n",
      "plt.plot(actual_loudness, label='actual')\n",
      "plt.ylabel('dynamic_complexity')\n",
      "plt.xlabel('year')\n",
      "plt.legend(loc='upper right')\n",
      "plt.show()"
     ],
     "language": "python",
     "metadata": {},
     "outputs": []
    },
    {
     "cell_type": "code",
     "collapsed": false,
     "input": [
      "# Using replay_gain\n",
      "replay_gain = ab_data.loc[:,['replay_gain']]\n",
      "\n",
      "original_loudness = replay_gain.join(release_original).groupby('year').aggregate(np.mean)\n",
      "actual_loudness = replay_gain.join(release_actual).groupby('year').aggregate(np.mean)\n",
      "\n",
      "plt.plot(original_loudness, label='original')\n",
      "plt.plot(actual_loudness, label='actual')\n",
      "plt.ylabel('replay_gain')\n",
      "plt.xlabel('year')\n",
      "plt.legend(loc='upper right')\n",
      "plt.show()"
     ],
     "language": "python",
     "metadata": {},
     "outputs": []
    }
   ],
   "metadata": {}
  }
 ]
}