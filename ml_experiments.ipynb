{
 "metadata": {
  "name": "",
  "signature": "sha256:3f7927523715f4696913c8246e6589e28fa5d4d7d3f6737595865718f993c962"
 },
 "nbformat": 3,
 "nbformat_minor": 0,
 "worksheets": [
  {
   "cells": [
    {
     "cell_type": "heading",
     "level": 1,
     "metadata": {},
     "source": [
      "Machine Learning Experiments"
     ]
    },
    {
     "cell_type": "code",
     "collapsed": false,
     "input": [
      "import os\n",
      "import simplejson\n",
      "import logging\n",
      "\n",
      "tracks = []\n",
      "\n",
      "def add_track(cls, raw_data):\n",
      "    tracks.append({\n",
      "        'class': cls,\n",
      "        'raw_data': raw_data,\n",
      "    })\n",
      "\n",
      "def import_tracks(cls, directory):\n",
      "    for root, dirs, files in os.walk(directory):\n",
      "        for file in files:\n",
      "            if file.endswith('.json'):            \n",
      "                with open(os.path.join(root, file), 'r') as f:\n",
      "                    add_track(cls, simplejson.load(f))\n",
      "\n",
      "classes = {\n",
      "    0: 'austin wintory',\n",
      "    1: 'german stuff',\n",
      "    2: 'hard rock',\n",
      "}\n",
      "\n",
      "DATA_DIR = os.path.join('data', 'ml_experiments')\n",
      "\n",
      "# Data set \"AUSTIN WINTORY\"\n",
      "import_tracks(0, os.path.join(DATA_DIR, 'journey'))\n",
      "                \n",
      "# Data set \"GERMAN STUFF\"\n",
      "import_tracks(1, os.path.join(DATA_DIR, 'german_stuff'))\n",
      "\n",
      "# Data set \"HARD ROCK\"\n",
      "import_tracks(2, os.path.join(DATA_DIR, 'hard'))"
     ],
     "language": "python",
     "metadata": {},
     "outputs": [],
     "prompt_number": 1
    },
    {
     "cell_type": "code",
     "collapsed": false,
     "input": [
      "features = [\n",
      "    # (name_of_the_feature, path_in_raw_data)\n",
      "    ('mean_spectral_energy', ['lowlevel', 'spectral_energy', 'mean']),\n",
      "    ('bpm',                  ['rhythm', 'bpm']),\n",
      "    ('beats_count',          ['rhythm', 'beats_count']),\n",
      "    ('danceability',         ['rhythm', 'danceability']),\n",
      "]\n",
      "\n",
      "def _extract_item(dictionary, path):\n",
      "    \"\"\"Extracts item located at the specified path in dictionary.\"\"\"\n",
      "    item = dictionary\n",
      "    for i in path:\n",
      "        item = item[i]\n",
      "    if isinstance(item, dict):\n",
      "        logging.warn('Extracted dictionary: %s', str(item))\n",
      "    return item\n",
      "\n",
      "def extract_features(features, raw_data):\n",
      "    \"\"\"Extracts list of features from raw data.\"\"\"\n",
      "    extracted_features = []\n",
      "    for feature in features:\n",
      "        extracted_features.append(_extract_item(raw_data, feature[1]))\n",
      "    return extracted_features\n",
      "\n",
      "# Extracting data\n",
      "data = []\n",
      "target = []\n",
      "for track in tracks:\n",
      "    data.append(extract_features(features, track['raw_data']))\n",
      "    target.append(track['class'])\n",
      "\n",
      "import numpy as np\n",
      "data = np.array(data)\n",
      "X = data[:, :2]  # we only take the first two features\n",
      "y = target"
     ],
     "language": "python",
     "metadata": {},
     "outputs": [],
     "prompt_number": 2
    },
    {
     "cell_type": "code",
     "collapsed": false,
     "input": [
      "%matplotlib inline\n",
      "import matplotlib.pyplot as plt\n",
      "\n",
      "plt.scatter(\n",
      "    X[:, 0],  # mean_spectral_energy\n",
      "    X[:, 1],  # bpm\n",
      "    c=target\n",
      ")\n",
      "plt.xlabel('mean_spectral_energy')\n",
      "plt.ylabel('bpm')\n",
      "formatter = plt.FuncFormatter(lambda i, *args: classes[i])\n",
      "plt.scatter(X[:, 0], X[:, 1], c=y)\n",
      "plt.colorbar(ticks=[0, 1, 2], format=formatter)\n",
      "plt.show()"
     ],
     "language": "python",
     "metadata": {},
     "outputs": [
      {
       "metadata": {},
       "output_type": "display_data",
       "png": "[encoded data removed]",
       "text": [
        "<matplotlib.figure.Figure at 0x35fd5f8>"
       ]
      }
     ],
     "prompt_number": 3
    },
    {
     "cell_type": "code",
     "collapsed": false,
     "input": [
      "# TIME TO FIT!\n",
      "from sklearn import svm\n",
      "\n",
      "svc = svm.SVC(kernel='rbf').fit(X, y)\n",
      "\n",
      "# TODO: Implement the rest!"
     ],
     "language": "python",
     "metadata": {},
     "outputs": [],
     "prompt_number": 4
    }
   ],
   "metadata": {}
  }
 ]
}